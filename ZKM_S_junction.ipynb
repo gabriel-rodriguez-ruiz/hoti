{
 "cells": [
  {
   "cell_type": "markdown",
   "id": "df43bc43",
   "metadata": {},
   "source": [
    "# ZKM-S junction"
   ]
  },
  {
   "cell_type": "code",
   "execution_count": null,
   "id": "517445fc",
   "metadata": {},
   "outputs": [],
   "source": [
    "import numpy as np\n",
    "import matplotlib.pyplot as plt\n",
    "from hamiltonians import Hamiltonian_ZKM_S\n",
    "from functions import probability_density\n",
    "%matplotlib notebook\n",
    "\n",
    "L_x = 30\n",
    "L_y = 30\n",
    "t = 1\n",
    "mu = -2*t   # mu=t*Delta_0/Delta_1\n",
    "Delta_0 = -0.4*t*4\n",
    "Delta_1 = 0.2*t*4\n",
    "Lambda = 0.5*t\n",
    "Phi = np.pi/2\n",
    "t_J = 1\n",
    "\n",
    "H_matrix = Hamiltonian_ZKM_S(t=t, mu=mu, L_x=L_x, L_y=L_y, Delta_0=Delta_0, Delta_1=Delta_1, Lambda=Lambda, t_J=t_J, Phi=Phi)\n",
    "probability_density = probability_density(H_matrix, L_x, L_y)"
   ]
  },
  {
   "cell_type": "markdown",
   "id": "4cfdd839",
   "metadata": {},
   "source": [
    "## Probability density"
   ]
  },
  {
   "cell_type": "code",
   "execution_count": null,
   "id": "ce7a40c2",
   "metadata": {},
   "outputs": [],
   "source": [
    "fig, ax = plt.subplots()\n",
    "image = ax.imshow(probability_density[:,:,2].T, cmap=\"Blues\", origin=\"lower\") #I have made the transpose and changed the origin to have xy axes as usually\n",
    "plt.colorbar(image)\n",
    "ax.set_xlabel(\"x\")\n",
    "ax.set_ylabel(\"y\")\n",
    "ax.text(5,25, rf'$t_J={t_J}; \\Phi={np.round(Phi, 2)}$')\n",
    "plt.tight_layout()"
   ]
  }
 ],
 "metadata": {
  "kernelspec": {
   "display_name": "Python 3 (ipykernel)",
   "language": "python",
   "name": "python3"
  },
  "language_info": {
   "codemirror_mode": {
    "name": "ipython",
    "version": 3
   },
   "file_extension": ".py",
   "mimetype": "text/x-python",
   "name": "python",
   "nbconvert_exporter": "python",
   "pygments_lexer": "ipython3",
   "version": "3.10.6"
  }
 },
 "nbformat": 4,
 "nbformat_minor": 5
}
